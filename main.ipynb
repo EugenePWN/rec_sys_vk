{
 "cells": [
  {
   "cell_type": "code",
   "execution_count": 1,
   "metadata": {},
   "outputs": [],
   "source": [
    "import pandas as pd\n",
    "\n",
    "data = pd.read_csv('post2ctr_dataset.csv')"
   ]
  },
  {
   "cell_type": "code",
   "execution_count": 34,
   "metadata": {},
   "outputs": [
    {
     "name": "stdout",
     "output_type": "stream",
     "text": [
      "2.0.0\n"
     ]
    },
    {
     "data": {
      "text/plain": [
       "True"
      ]
     },
     "execution_count": 34,
     "metadata": {},
     "output_type": "execute_result"
    }
   ],
   "source": [
    "import torch\n",
    "\n",
    "print(torch.__version__)\n",
    "torch.cuda.is_available() "
   ]
  },
  {
   "cell_type": "code",
   "execution_count": null,
   "metadata": {},
   "outputs": [],
   "source": [
    "import torch\n",
    "from PIL import Image\n",
    "from base64 import b64decode\n",
    "from io import BytesIO\n",
    "from transformers import ViTFeatureExtractor, ViTModel\n",
    "\n",
    "# Инициализация feature extractor и модели ViT\n",
    "feature_extractor = ViTFeatureExtractor.from_pretrained('google/vit-base-patch16-224')\n",
    "vit_model = ViTModel.from_pretrained('google/vit-base-patch16-224')\n",
    "\n",
    "# Определение устройства (GPU или CPU)\n",
    "device = torch.device(\"cuda\" if torch.cuda.is_available() else \"cpu\")\n",
    "\n",
    "# Перемещаем модель на GPU\n",
    "vit_model = vit_model.to(device)"
   ]
  },
  {
   "cell_type": "code",
   "execution_count": null,
   "metadata": {},
   "outputs": [],
   "source": [
    "def preprocess_image(image_base64):\n",
    "    # Декодируем изображение\n",
    "    img = Image.open(BytesIO(b64decode(image_base64))).convert(\"RGB\")\n",
    "    \n",
    "    # Преобразуем изображение для подачи в модель\n",
    "    inputs = feature_extractor(images=img, return_tensors=\"pt\")\n",
    "    return inputs['pixel_values'].squeeze(0)"
   ]
  },
  {
   "cell_type": "code",
   "execution_count": null,
   "metadata": {},
   "outputs": [],
   "source": [
    "def extract_image_features_batch(batch_images):\n",
    "    # Преобразуем список изображений в батч\n",
    "    batch_images_tensor = torch.stack(batch_images).to(device)\n",
    "    \n",
    "    # Извлекаем признаки с помощью ViT\n",
    "    with torch.no_grad():\n",
    "        outputs = vit_model(pixel_values=batch_images_tensor)\n",
    "    \n",
    "    # Получаем эмбеддинг изображений (среднее по последнему слою для каждого изображения)\n",
    "    batch_embeddings = outputs.last_hidden_state.mean(dim=1)\n",
    "    \n",
    "    return batch_embeddings"
   ]
  },
  {
   "cell_type": "code",
   "execution_count": null,
   "metadata": {},
   "outputs": [],
   "source": [
    "# Подготовка данных (предварительная обработка изображений)\n",
    "preprocessed_images = [preprocess_image(img) for img in data['photo']]"
   ]
  },
  {
   "cell_type": "code",
   "execution_count": null,
   "metadata": {},
   "outputs": [],
   "source": [
    "# Параметры батчей\n",
    "batch_size = 32\n",
    "image_embeddings = []\n",
    "\n",
    "# Обработка изображений в батчах\n",
    "for i in range(0, len(preprocessed_images), batch_size):\n",
    "    batch_images = preprocessed_images[i:i + batch_size]\n",
    "    batch_embeddings = extract_image_features_batch(batch_images)\n",
    "    image_embeddings.append(batch_embeddings)"
   ]
  },
  {
   "cell_type": "code",
   "execution_count": null,
   "metadata": {},
   "outputs": [],
   "source": [
    "# Объединяем все батчи в один тензор\n",
    "X = torch.cat(image_embeddings)"
   ]
  },
  {
   "cell_type": "code",
   "execution_count": 3,
   "metadata": {},
   "outputs": [
    {
     "name": "stderr",
     "output_type": "stream",
     "text": [
      "c:\\Users\\eugen\\anaconda3\\envs\\rec_sys\\lib\\site-packages\\tqdm\\auto.py:21: TqdmWarning: IProgress not found. Please update jupyter and ipywidgets. See https://ipywidgets.readthedocs.io/en/stable/user_install.html\n",
      "  from .autonotebook import tqdm as notebook_tqdm\n",
      "c:\\Users\\eugen\\anaconda3\\envs\\rec_sys\\lib\\site-packages\\transformers\\models\\vit\\feature_extraction_vit.py:28: FutureWarning: The class ViTFeatureExtractor is deprecated and will be removed in version 5 of Transformers. Please use ViTImageProcessor instead.\n",
      "  warnings.warn(\n",
      "Some weights of ViTModel were not initialized from the model checkpoint at google/vit-base-patch16-224 and are newly initialized: ['vit.pooler.dense.bias', 'vit.pooler.dense.weight']\n",
      "You should probably TRAIN this model on a down-stream task to be able to use it for predictions and inference.\n"
     ]
    }
   ],
   "source": [
    "import torch\n",
    "from PIL import Image\n",
    "from base64 import b64decode\n",
    "from io import BytesIO\n",
    "from transformers import ViTFeatureExtractor, ViTModel\n",
    "\n",
    "# Инициализация feature extractor и модели ViT\n",
    "feature_extractor = ViTFeatureExtractor.from_pretrained('google/vit-base-patch16-224')\n",
    "vit_model = ViTModel.from_pretrained('google/vit-base-patch16-224')\n",
    "\n",
    "# Определение устройства (GPU или CPU)\n",
    "device = torch.device(\"cuda\" if torch.cuda.is_available() else \"cpu\")\n",
    "\n",
    "# Перемещаем модель на GPU\n",
    "vit_model = vit_model.to(device)\n",
    "\n",
    "def preprocess_image(image_base64):\n",
    "    # Декодируем изображение\n",
    "    img = Image.open(BytesIO(b64decode(image_base64))).convert(\"RGB\")\n",
    "    \n",
    "    # Преобразуем изображение для подачи в модель\n",
    "    inputs = feature_extractor(images=img, return_tensors=\"pt\")\n",
    "    return inputs['pixel_values'].squeeze(0)\n",
    "\n",
    "def extract_image_features_batch(batch_images):\n",
    "    # Преобразуем список изображений в батч\n",
    "    batch_images_tensor = torch.stack(batch_images).to(device)\n",
    "    \n",
    "    # Извлекаем признаки с помощью ViT\n",
    "    with torch.no_grad():\n",
    "        outputs = vit_model(pixel_values=batch_images_tensor)\n",
    "    \n",
    "    # Получаем эмбеддинг изображений (среднее по последнему слою для каждого изображения)\n",
    "    batch_embeddings = outputs.last_hidden_state.mean(dim=1)\n",
    "    \n",
    "    return batch_embeddings\n",
    "\n",
    "# Параметры батчей\n",
    "batch_size = 32\n",
    "image_embeddings = []\n",
    "\n",
    "# Подготовка данных (предварительная обработка изображений)\n",
    "preprocessed_images = [preprocess_image(img) for img in data['photo']]\n",
    "\n",
    "# Обработка изображений в батчах\n",
    "for i in range(0, len(preprocessed_images), batch_size):\n",
    "    batch_images = preprocessed_images[i:i + batch_size]\n",
    "    batch_embeddings = extract_image_features_batch(batch_images)\n",
    "    image_embeddings.append(batch_embeddings)\n",
    "\n",
    "# Объединяем все батчи в один тензор\n",
    "X = torch.cat(image_embeddings)"
   ]
  },
  {
   "cell_type": "code",
   "execution_count": 4,
   "metadata": {},
   "outputs": [],
   "source": [
    "X_cpu = X.cpu().numpy()\n",
    "image_embeddings_df = pd.DataFrame(X_cpu, columns=[f'image_emb_{i}' for i in range(X_cpu.shape[1])])"
   ]
  },
  {
   "cell_type": "code",
   "execution_count": 17,
   "metadata": {},
   "outputs": [],
   "source": [
    "# Зададим веса для каждой активности\n",
    "weights = {\n",
    "    'like': 1.8,           # Лайк \n",
    "    'comment': 4,          # Комментарий \n",
    "    'hide': 3,             # Скрытие поста \n",
    "    'expand': 1.4,         # Развертывание поста \n",
    "    'open_photo': 1.3,     # Открытие фото \n",
    "    'open': 1.5,           # Открытие поста \n",
    "    'share_to_message': 5  # Пересылка в личные сообщения\n",
    "}"
   ]
  },
  {
   "cell_type": "code",
   "execution_count": 5,
   "metadata": {},
   "outputs": [],
   "source": [
    "weights_mean = {}\n",
    "for i in data.columns[1:8]:\n",
    "\tweights_mean[i] = round((1 / data[i].mean()) * 100, 2)"
   ]
  },
  {
   "cell_type": "code",
   "execution_count": 6,
   "metadata": {},
   "outputs": [
    {
     "data": {
      "text/plain": [
       "{'like': 0.26,\n",
       " 'comment': 9.75,\n",
       " 'hide': 9.31,\n",
       " 'expand': 0.13,\n",
       " 'open_photo': 0.11,\n",
       " 'open': 0.17,\n",
       " 'share_to_message': 1.79}"
      ]
     },
     "execution_count": 6,
     "metadata": {},
     "output_type": "execute_result"
    }
   ],
   "source": [
    "weights_mean"
   ]
  },
  {
   "cell_type": "code",
   "execution_count": 18,
   "metadata": {},
   "outputs": [],
   "source": [
    "def calculate_weighted_conversion(row):\n",
    "    weighted_sum = 0\n",
    "    for activity, weight in weights.items():\n",
    "        weighted_sum += row[activity] * weight \n",
    "        result = weighted_sum / row['view'] if row['view'] > 0 else 0\n",
    "    return result\n",
    "\n",
    "data['weighted_conversion'] = data.apply(calculate_weighted_conversion, axis=1)"
   ]
  },
  {
   "cell_type": "code",
   "execution_count": 26,
   "metadata": {},
   "outputs": [
    {
     "data": {
      "text/html": [
       "<div>\n",
       "<style scoped>\n",
       "    .dataframe tbody tr th:only-of-type {\n",
       "        vertical-align: middle;\n",
       "    }\n",
       "\n",
       "    .dataframe tbody tr th {\n",
       "        vertical-align: top;\n",
       "    }\n",
       "\n",
       "    .dataframe thead th {\n",
       "        text-align: right;\n",
       "    }\n",
       "</style>\n",
       "<table border=\"1\" class=\"dataframe\">\n",
       "  <thead>\n",
       "    <tr style=\"text-align: right;\">\n",
       "      <th></th>\n",
       "      <th>view</th>\n",
       "      <th>like</th>\n",
       "      <th>comment</th>\n",
       "      <th>hide</th>\n",
       "      <th>expand</th>\n",
       "      <th>open_photo</th>\n",
       "      <th>open</th>\n",
       "      <th>share_to_message</th>\n",
       "      <th>weighted_conversion</th>\n",
       "    </tr>\n",
       "  </thead>\n",
       "  <tbody>\n",
       "    <tr>\n",
       "      <th>0</th>\n",
       "      <td>10869</td>\n",
       "      <td>185</td>\n",
       "      <td>0</td>\n",
       "      <td>2</td>\n",
       "      <td>0</td>\n",
       "      <td>1947</td>\n",
       "      <td>14</td>\n",
       "      <td>20</td>\n",
       "      <td>0.275196</td>\n",
       "    </tr>\n",
       "    <tr>\n",
       "      <th>1</th>\n",
       "      <td>9083</td>\n",
       "      <td>227</td>\n",
       "      <td>1</td>\n",
       "      <td>7</td>\n",
       "      <td>4</td>\n",
       "      <td>958</td>\n",
       "      <td>23</td>\n",
       "      <td>2</td>\n",
       "      <td>0.190367</td>\n",
       "    </tr>\n",
       "    <tr>\n",
       "      <th>2</th>\n",
       "      <td>5352</td>\n",
       "      <td>25</td>\n",
       "      <td>5</td>\n",
       "      <td>12</td>\n",
       "      <td>598</td>\n",
       "      <td>430</td>\n",
       "      <td>114</td>\n",
       "      <td>4</td>\n",
       "      <td>0.315433</td>\n",
       "    </tr>\n",
       "    <tr>\n",
       "      <th>3</th>\n",
       "      <td>4260</td>\n",
       "      <td>539</td>\n",
       "      <td>5</td>\n",
       "      <td>3</td>\n",
       "      <td>1</td>\n",
       "      <td>138</td>\n",
       "      <td>62</td>\n",
       "      <td>24</td>\n",
       "      <td>0.326995</td>\n",
       "    </tr>\n",
       "    <tr>\n",
       "      <th>4</th>\n",
       "      <td>5676</td>\n",
       "      <td>112</td>\n",
       "      <td>2</td>\n",
       "      <td>4</td>\n",
       "      <td>371</td>\n",
       "      <td>271</td>\n",
       "      <td>499</td>\n",
       "      <td>4</td>\n",
       "      <td>0.328013</td>\n",
       "    </tr>\n",
       "  </tbody>\n",
       "</table>\n",
       "</div>"
      ],
      "text/plain": [
       "    view  like  comment  hide  expand  open_photo  open  share_to_message  \\\n",
       "0  10869   185        0     2       0        1947    14                20   \n",
       "1   9083   227        1     7       4         958    23                 2   \n",
       "2   5352    25        5    12     598         430   114                 4   \n",
       "3   4260   539        5     3       1         138    62                24   \n",
       "4   5676   112        2     4     371         271   499                 4   \n",
       "\n",
       "   weighted_conversion  \n",
       "0             0.275196  \n",
       "1             0.190367  \n",
       "2             0.315433  \n",
       "3             0.326995  \n",
       "4             0.328013  "
      ]
     },
     "execution_count": 26,
     "metadata": {},
     "output_type": "execute_result"
    }
   ],
   "source": [
    "data[['view', 'like', 'comment', 'hide', 'expand', 'open_photo', 'open', 'share_to_message', 'weighted_conversion']].head()"
   ]
  },
  {
   "cell_type": "code",
   "execution_count": 20,
   "metadata": {},
   "outputs": [],
   "source": [
    "df = pd.concat([image_embeddings_df, data['weighted_conversion']], axis=1)"
   ]
  },
  {
   "cell_type": "code",
   "execution_count": 13,
   "metadata": {},
   "outputs": [
    {
     "name": "stdout",
     "output_type": "stream",
     "text": [
      "'nlp' extra dependecy package 'gensim' isn't installed. Look at README.md in repo 'LightAutoML' for installation instructions.\n",
      "'nlp' extra dependecy package 'nltk' isn't installed. Look at README.md in repo 'LightAutoML' for installation instructions.\n",
      "'nlp' extra dependecy package 'gensim' isn't installed. Look at README.md in repo 'LightAutoML' for installation instructions.\n",
      "'nlp' extra dependecy package 'nltk' isn't installed. Look at README.md in repo 'LightAutoML' for installation instructions.\n"
     ]
    },
    {
     "name": "stderr",
     "output_type": "stream",
     "text": [
      "c:\\Users\\eugen\\anaconda3\\envs\\rec_sys\\lib\\site-packages\\lightautoml\\text\\tokenizer.py:21: UserWarning: 'nltk' - package isn't installed\n",
      "  warnings.warn(\"'nltk' - package isn't installed\")\n",
      "c:\\Users\\eugen\\anaconda3\\envs\\rec_sys\\lib\\site-packages\\lightautoml\\transformers\\text.py:22: UserWarning: 'gensim' - package isn't installed\n",
      "  warnings.warn(\"'gensim' - package isn't installed\")\n",
      "c:\\Users\\eugen\\anaconda3\\envs\\rec_sys\\lib\\site-packages\\lightautoml\\ml_algo\\dl_model.py:42: UserWarning: 'transformers' - package isn't installed\n",
      "  warnings.warn(\"'transformers' - package isn't installed\")\n"
     ]
    }
   ],
   "source": [
    "from lightautoml.automl.presets.tabular_presets import TabularAutoML\n",
    "from lightautoml.tasks import Task\n",
    "from sklearn.model_selection import train_test_split\n",
    "from sklearn.metrics import mean_squared_error\n",
    "\n",
    "\n",
    "train, test = train_test_split(df, test_size=0.2, random_state=42)\n",
    "\n",
    "task = Task('reg')\n",
    "\n",
    "automl = TabularAutoML(\n",
    "\t\ttask=task, \n",
    "\t\ttimeout=3600, \n",
    "\t\tcpu_limit=6, \n",
    "\t\tgpu_ids='0', \n",
    "\t\t#reader_params = {'n_jobs': N_THREADS, 'cv': N_FOLDS, 'random_state': RANDOM_STATE, 'verbose': 1}\n",
    "\t\tgeneral_params= {'use_algos': [['lgb', 'cb', 'nn', 'xgb']]}\n",
    ")"
   ]
  },
  {
   "cell_type": "code",
   "execution_count": 14,
   "metadata": {},
   "outputs": [],
   "source": [
    "roles = {\n",
    "\t'target': 'weighted_conversion'\n",
    "}"
   ]
  },
  {
   "cell_type": "code",
   "execution_count": null,
   "metadata": {},
   "outputs": [],
   "source": [
    "predict = automl.fit_predict(train, roles=roles, verbose=1)\n",
    "test_pred = automl.predict(test)"
   ]
  },
  {
   "cell_type": "code",
   "execution_count": null,
   "metadata": {},
   "outputs": [],
   "source": [
    "mse = mean_squared_error(y_test, test_pred.data[:, 0])\n",
    "mse"
   ]
  },
  {
   "cell_type": "code",
   "execution_count": 21,
   "metadata": {},
   "outputs": [],
   "source": [
    "from catboost import CatBoostRegressor\n",
    "from sklearn.model_selection import train_test_split\n",
    "from sklearn.metrics import mean_squared_error\n",
    "\n",
    "X = df.drop(columns=['weighted_conversion'])\n",
    "y = df['weighted_conversion']\n",
    "\n",
    "X_train, X_test, y_train, y_test = train_test_split(X, y, test_size=0.2, random_state=42)"
   ]
  },
  {
   "cell_type": "code",
   "execution_count": 22,
   "metadata": {},
   "outputs": [
    {
     "name": "stdout",
     "output_type": "stream",
     "text": [
      "0:\tlearn: 0.1711268\ttotal: 40.9ms\tremaining: 1m 21s\n",
      "100:\tlearn: 0.1566233\ttotal: 3.64s\tremaining: 1m 8s\n",
      "200:\tlearn: 0.1447851\ttotal: 7.05s\tremaining: 1m 3s\n",
      "300:\tlearn: 0.1347530\ttotal: 10.5s\tremaining: 59.1s\n",
      "400:\tlearn: 0.1257206\ttotal: 14s\tremaining: 55.8s\n",
      "500:\tlearn: 0.1171321\ttotal: 17.4s\tremaining: 52.1s\n",
      "600:\tlearn: 0.1093089\ttotal: 20.8s\tremaining: 48.3s\n",
      "700:\tlearn: 0.1021960\ttotal: 24.3s\tremaining: 45.1s\n",
      "800:\tlearn: 0.0955971\ttotal: 27.8s\tremaining: 41.6s\n",
      "900:\tlearn: 0.0894491\ttotal: 31.2s\tremaining: 38.1s\n",
      "1000:\tlearn: 0.0839759\ttotal: 34.6s\tremaining: 34.5s\n",
      "1100:\tlearn: 0.0784017\ttotal: 37.9s\tremaining: 31s\n",
      "1200:\tlearn: 0.0734016\ttotal: 41.4s\tremaining: 27.5s\n",
      "1300:\tlearn: 0.0687808\ttotal: 44.8s\tremaining: 24.1s\n",
      "1400:\tlearn: 0.0644869\ttotal: 48.2s\tremaining: 20.6s\n",
      "1500:\tlearn: 0.0604236\ttotal: 51.6s\tremaining: 17.1s\n",
      "1600:\tlearn: 0.0565403\ttotal: 55s\tremaining: 13.7s\n",
      "1700:\tlearn: 0.0530303\ttotal: 58.3s\tremaining: 10.2s\n",
      "1800:\tlearn: 0.0496694\ttotal: 1m 1s\tremaining: 6.81s\n",
      "1900:\tlearn: 0.0466146\ttotal: 1m 5s\tremaining: 3.38s\n",
      "1999:\tlearn: 0.0437526\ttotal: 1m 8s\tremaining: 0us\n"
     ]
    }
   ],
   "source": [
    "model = CatBoostRegressor(iterations=2000, learning_rate=0.1, depth=6, verbose=100)\n",
    "\n",
    "model.fit(X_train, y_train)\n",
    "y_pred = model.predict(X_test)"
   ]
  },
  {
   "cell_type": "code",
   "execution_count": 25,
   "metadata": {},
   "outputs": [
    {
     "data": {
      "text/plain": [
       "0.027470408204398132"
      ]
     },
     "execution_count": 25,
     "metadata": {},
     "output_type": "execute_result"
    }
   ],
   "source": [
    "mse = mean_squared_error(y_test, y_pred)\n",
    "mse"
   ]
  },
  {
   "cell_type": "code",
   "execution_count": 24,
   "metadata": {},
   "outputs": [
    {
     "data": {
      "text/plain": [
       "count    23527.000000\n",
       "mean         0.196537\n",
       "std          0.171080\n",
       "min          0.000762\n",
       "25%          0.076025\n",
       "50%          0.149113\n",
       "75%          0.265293\n",
       "max          2.812193\n",
       "Name: weighted_conversion, dtype: float64"
      ]
     },
     "execution_count": 24,
     "metadata": {},
     "output_type": "execute_result"
    }
   ],
   "source": [
    "df['weighted_conversion'].describe()"
   ]
  },
  {
   "cell_type": "markdown",
   "metadata": {},
   "source": [
    "MSE weights:      0.027470408204398132 "
   ]
  },
  {
   "cell_type": "markdown",
   "metadata": {},
   "source": [
    "MSE weights_mean: 0.11655845174410165 "
   ]
  },
  {
   "cell_type": "code",
   "execution_count": 28,
   "metadata": {},
   "outputs": [],
   "source": [
    "data['text'] = data['text'].fillna('')"
   ]
  },
  {
   "cell_type": "code",
   "execution_count": 32,
   "metadata": {},
   "outputs": [],
   "source": [
    "import re\n",
    "\n",
    "def clean_text(text):\n",
    "    # Удаляем HTML-теги\n",
    "    text = re.sub(r'<.*?>', '', text)\n",
    "    # Заменяем HTML-сущности на пробелы\n",
    "    text = re.sub(r'&[a-zA-Z0-9#]+;', ' ', text)\n",
    "    # Разделяем цифры и буквы\n",
    "    text = re.sub(r'(\\d+)([а-яА-Яa-zA-Z])', r'\\1 \\2', text)  # Цифры перед буквами\n",
    "    text = re.sub(r'([а-яА-Яa-zA-Z])(\\d+)', r'\\1 \\2', text)  # Буквы перед цифрами\n",
    "    # Удаляем специальные символы\n",
    "    text = re.sub(r'[^A-Za-zА-Яа-я0-9ёЁ.,!?;:\\s]', '', text)  # Сохраняем буквы, цифры и знаки препинания\n",
    "    # Удаляем лишние пробелы\n",
    "    text = re.sub(r'\\s+', ' ', text).strip()\n",
    "    return text\n",
    "\n",
    "# Применяем очистку к колонке 'text'\n",
    "data['text'] = data['text'].apply(lambda x: clean_text(x) if isinstance(x, str) else x)"
   ]
  },
  {
   "cell_type": "code",
   "execution_count": 33,
   "metadata": {},
   "outputs": [
    {
     "data": {
      "text/plain": [
       "0                                                         \n",
       "1                                                         \n",
       "2        Новость, конечно, старенькая, но все равно инт...\n",
       "3                                  Фантазийные бриллианты.\n",
       "4        Сегодня на стадионе Динамо прошли соревнования...\n",
       "                               ...                        \n",
       "23522                       Тамара, выиграет в 24 сезоне ?\n",
       "23523    Продажи Manor Lords превысили 1 млн копий. Сре...\n",
       "23524                                                     \n",
       "23525    Магическая фраза: Уже оплачено Позвольте себе ...\n",
       "23526          Старонемецкая пастушья собака Овечий пудель\n",
       "Name: text, Length: 23527, dtype: object"
      ]
     },
     "execution_count": 33,
     "metadata": {},
     "output_type": "execute_result"
    }
   ],
   "source": [
    "data['text']"
   ]
  },
  {
   "cell_type": "code",
   "execution_count": 36,
   "metadata": {},
   "outputs": [
    {
     "data": {
      "text/plain": [
       "BertModel(\n",
       "  (embeddings): BertEmbeddings(\n",
       "    (word_embeddings): Embedding(30522, 768, padding_idx=0)\n",
       "    (position_embeddings): Embedding(512, 768)\n",
       "    (token_type_embeddings): Embedding(2, 768)\n",
       "    (LayerNorm): LayerNorm((768,), eps=1e-12, elementwise_affine=True)\n",
       "    (dropout): Dropout(p=0.1, inplace=False)\n",
       "  )\n",
       "  (encoder): BertEncoder(\n",
       "    (layer): ModuleList(\n",
       "      (0-11): 12 x BertLayer(\n",
       "        (attention): BertAttention(\n",
       "          (self): BertSelfAttention(\n",
       "            (query): Linear(in_features=768, out_features=768, bias=True)\n",
       "            (key): Linear(in_features=768, out_features=768, bias=True)\n",
       "            (value): Linear(in_features=768, out_features=768, bias=True)\n",
       "            (dropout): Dropout(p=0.1, inplace=False)\n",
       "          )\n",
       "          (output): BertSelfOutput(\n",
       "            (dense): Linear(in_features=768, out_features=768, bias=True)\n",
       "            (LayerNorm): LayerNorm((768,), eps=1e-12, elementwise_affine=True)\n",
       "            (dropout): Dropout(p=0.1, inplace=False)\n",
       "          )\n",
       "        )\n",
       "        (intermediate): BertIntermediate(\n",
       "          (dense): Linear(in_features=768, out_features=3072, bias=True)\n",
       "          (intermediate_act_fn): GELUActivation()\n",
       "        )\n",
       "        (output): BertOutput(\n",
       "          (dense): Linear(in_features=3072, out_features=768, bias=True)\n",
       "          (LayerNorm): LayerNorm((768,), eps=1e-12, elementwise_affine=True)\n",
       "          (dropout): Dropout(p=0.1, inplace=False)\n",
       "        )\n",
       "      )\n",
       "    )\n",
       "  )\n",
       "  (pooler): BertPooler(\n",
       "    (dense): Linear(in_features=768, out_features=768, bias=True)\n",
       "    (activation): Tanh()\n",
       "  )\n",
       ")"
      ]
     },
     "execution_count": 36,
     "metadata": {},
     "output_type": "execute_result"
    }
   ],
   "source": [
    "from transformers import BertTokenizer, BertModel\n",
    "\n",
    "# Загружаем предобученный BERT\n",
    "tokenizer = BertTokenizer.from_pretrained('bert-base-uncased')\n",
    "bert_model = BertModel.from_pretrained('bert-base-uncased')\n",
    "\n",
    "bert_model.to(device)"
   ]
  },
  {
   "cell_type": "code",
   "execution_count": 37,
   "metadata": {},
   "outputs": [],
   "source": [
    "def extract_text_features(text):\n",
    "    # Проверяем, что текст является строкой\n",
    "    if isinstance(text, str):\n",
    "        # Токенизация текста\n",
    "        inputs = tokenizer(text, return_tensors=\"pt\", truncation=True, padding=True).to(device)\n",
    "    else:\n",
    "        raise ValueError(\"Input text must be a string.\")\n",
    "\n",
    "    # Извлекаем признаки с помощью BERT\n",
    "    with torch.no_grad():\n",
    "        outputs = bert_model(**inputs)\n",
    "\n",
    "    # Получаем эмбеддинг текста (например, среднее по последнему слою)\n",
    "    text_embedding = outputs.last_hidden_state.mean(dim=1).squeeze().cpu().numpy()\n",
    "    return text_embedding"
   ]
  },
  {
   "cell_type": "code",
   "execution_count": 39,
   "metadata": {},
   "outputs": [
    {
     "data": {
      "text/plain": [
       "array([-9.22983885e-03, -2.21861899e-01, -3.44826400e-01,  1.65108815e-02,\n",
       "       -2.91983604e-01, -2.57292479e-01,  5.23197055e-01,  8.52107406e-02,\n",
       "       -1.83133408e-01, -4.25763875e-01,  3.09026003e-01, -6.58390224e-02,\n",
       "        3.83387893e-01,  3.26030016e-01, -4.31871176e-01, -1.78766772e-01,\n",
       "       -4.68654573e-01,  2.52397388e-01,  2.98528373e-01, -4.26865637e-01,\n",
       "        6.18004858e-01, -6.09591343e-02,  1.70703977e-01,  1.85088873e-01,\n",
       "        3.19058865e-01, -2.45249361e-01, -6.36368394e-02,  1.20905019e-01,\n",
       "       -4.17179763e-01,  4.95105833e-02, -1.33699626e-01,  1.01185471e-01,\n",
       "       -3.21497381e-01,  9.15413320e-01,  1.87661871e-01, -4.36267763e-01,\n",
       "        2.97277719e-01,  5.77071607e-02,  1.94488168e-02,  1.63613111e-01,\n",
       "       -2.74740100e-01, -1.54002681e-01,  1.94301501e-01, -1.01843618e-01,\n",
       "        3.22204977e-02, -7.65702873e-02, -8.93381715e-01,  3.37255299e-01,\n",
       "       -2.08330639e-02,  4.45742577e-01,  5.73014244e-02,  1.73623845e-01,\n",
       "        2.35955715e-01,  5.49169838e-01,  4.66081202e-02,  1.73515365e-01,\n",
       "        1.07711427e-01, -2.36067861e-01,  2.12475836e-01, -2.14791179e-01,\n",
       "       -1.98410690e-01,  2.24390775e-01,  1.05416484e-01, -3.14095765e-01,\n",
       "        4.26571906e-01,  2.59170562e-01,  1.92924038e-01,  1.76977798e-01,\n",
       "       -5.88677168e-01,  2.66059041e-02, -5.97799361e-01, -7.01919943e-02,\n",
       "        5.49728632e-01,  6.38887808e-02, -7.06782341e-02,  3.83254260e-01,\n",
       "       -1.00382239e-01,  4.62211668e-01,  3.15062523e-01,  1.02398969e-01,\n",
       "       -2.09446341e-01,  1.98163807e-01, -1.40000522e-01,  4.82813835e-01,\n",
       "        1.30842105e-01, -2.06758842e-01, -1.45631254e-01, -2.90820003e-01,\n",
       "       -6.26788259e-01,  2.77783632e-01,  1.00899495e-01,  2.26828888e-01,\n",
       "        1.82743296e-01,  4.13223356e-03, -3.30140650e-01, -7.56201297e-02,\n",
       "       -3.13593417e-01, -7.83601701e-02, -2.49141216e-01, -6.24737144e-02,\n",
       "        1.93852812e-01,  1.46091387e-01,  1.62568226e-01,  2.74740994e-01,\n",
       "        4.86175902e-02,  2.53213286e-01,  8.36139843e-02, -6.74700737e-03,\n",
       "       -5.03646284e-02,  2.57767767e-01,  1.93989724e-01, -3.47481519e-01,\n",
       "        4.64337468e-02, -3.32343698e-01, -6.48427010e-02, -8.61527026e-03,\n",
       "        3.61273140e-01, -7.00900257e-02,  4.09164727e-01, -2.12770849e-02,\n",
       "       -3.95234436e-01, -6.25707448e-01, -7.98688829e-03,  9.71621275e-01,\n",
       "       -3.90412807e-01, -3.40361267e-01,  2.28063136e-01, -2.05621719e-01,\n",
       "       -4.28084619e-02, -1.35655493e-01, -3.15033793e-02,  1.11503229e-01,\n",
       "        7.76224583e-02, -1.84480205e-01, -4.07000422e-01,  3.50986004e-01,\n",
       "        1.84838533e-01, -2.34084785e-01, -5.02961040e-01,  1.48796216e-01,\n",
       "       -9.64820087e-02,  4.00036454e-01, -3.52129191e-01, -4.86694872e-01,\n",
       "        3.48584116e-01, -3.11234295e-01,  3.24281394e-01,  1.77130327e-01,\n",
       "        4.06421065e-01, -5.13277411e-01,  3.79536510e-01, -1.09671786e-01,\n",
       "       -1.57645002e-01, -1.80507675e-01, -4.37906265e-01, -1.75282493e-01,\n",
       "       -3.19731832e-01,  1.44495830e-01,  6.66169167e-01,  3.83935004e-01,\n",
       "        4.95184720e-01,  1.53313190e-01,  1.19609818e-01,  9.04022306e-02,\n",
       "       -3.17477435e-02,  2.89858907e-01, -3.84979665e-01,  1.38983190e-01,\n",
       "       -2.81929113e-02,  4.29131329e-01, -9.92633581e-01,  2.09057033e-02,\n",
       "        5.05639255e-01,  1.74881950e-01, -2.73909532e-02,  3.88259068e-03,\n",
       "       -1.10989839e-01,  3.00340295e-01,  1.70262754e-01, -3.93206418e-01,\n",
       "       -4.41779804e+00, -2.52598971e-01,  2.31928304e-01, -2.23063052e-01,\n",
       "        3.81743908e-01, -4.01591063e-01,  1.57984376e-01, -1.44204125e-01,\n",
       "        5.27694672e-02, -3.18816781e-01,  1.36017114e-01,  2.89963543e-01,\n",
       "       -4.70415294e-01,  4.07098472e-01,  3.49134862e-01, -4.90108222e-01,\n",
       "        1.89239576e-01, -2.96055377e-01,  1.82754427e-01, -2.24878415e-01,\n",
       "       -2.13982239e-02, -4.02889401e-01,  1.71993971e-01,  5.20480990e-01,\n",
       "       -1.48766860e-01,  6.99996948e-03,  7.58425146e-02, -6.35092735e-01,\n",
       "        1.38223916e-02,  4.26658481e-01, -9.40212727e-01,  4.91198480e-01,\n",
       "        1.46626830e-01,  1.04966640e-01,  2.85748929e-01, -4.32525992e-01,\n",
       "        1.21994011e-01, -3.75579655e-01, -3.85872781e-01,  2.45179430e-01,\n",
       "       -1.72044456e-01,  9.41286981e-03, -2.36815602e-01,  6.16493940e-01,\n",
       "        5.64622402e-01, -2.49430507e-01,  4.66760576e-01,  8.73795807e-01,\n",
       "        1.43689901e-01, -1.59802645e-01,  1.44111142e-01, -9.75862369e-02,\n",
       "        5.43443143e-01,  3.35398287e-01, -6.11535728e-01,  4.85847890e-03,\n",
       "       -2.00956330e-01, -3.97096016e-02, -4.08400148e-01, -1.00819695e+00,\n",
       "        1.05699256e-01, -2.30800599e-01,  3.40168774e-01, -5.46101332e-01,\n",
       "       -3.64851952e-03,  1.42060548e-01,  2.14480877e-01,  3.45865905e-01,\n",
       "        2.82352865e-01, -4.65082556e-01,  1.39366567e-01, -4.62397039e-01,\n",
       "        2.69827485e-01, -5.95391989e-01,  2.10008562e-01, -9.99926031e-03,\n",
       "       -1.20349906e-01, -3.94671708e-01,  5.34621835e-01,  2.78804153e-02,\n",
       "       -2.98595130e-02, -2.04406381e-02,  6.59385741e-01,  8.34989175e-02,\n",
       "       -3.52354020e-01, -1.37618870e-01, -1.16140842e-02, -1.17166132e-01,\n",
       "       -2.60473818e-01, -2.88703412e-01,  4.40445304e-01,  2.27043703e-01,\n",
       "       -1.52591899e-01,  1.50049359e-01, -2.77845681e-01, -4.76452053e-01,\n",
       "        3.44359607e-01,  1.12401150e-01,  1.34564489e-01,  2.71813750e-01,\n",
       "        8.47162008e-02,  5.77496052e-01, -5.16264498e-01,  1.42001137e-01,\n",
       "       -3.79428118e-01, -7.18056560e-01, -5.57894707e-01, -2.11029708e-01,\n",
       "        1.33576497e-01, -9.47359622e-01, -4.37229872e-04,  2.75790036e-01,\n",
       "        1.86837703e-01, -4.16505337e-03,  2.30185688e-02, -1.61223710e-02,\n",
       "        4.51382548e-01,  1.96027130e-01, -5.08669734e-01, -5.94118774e-01,\n",
       "       -1.42095894e-01, -6.91422820e-01, -4.21341717e-01, -3.20619494e-02,\n",
       "       -1.35169506e-01,  1.02233306e-01,  6.98729277e-01, -1.78864926e-01,\n",
       "       -9.20881331e-01,  3.16552788e-01, -2.99911648e-02, -9.88172412e-01,\n",
       "        2.50689030e-01, -5.19455001e-02, -7.04040378e-03, -2.85160154e-01,\n",
       "       -7.34248832e-02,  2.02552468e-01, -5.58947504e-01, -7.01348722e-01,\n",
       "        3.42634231e-01,  5.76128624e-02,  3.86174798e-01,  3.96803916e-01,\n",
       "        1.85903553e-02, -1.22712456e-01, -6.60365880e-01,  5.03407866e-02,\n",
       "       -1.72852471e-01, -2.33864278e-01, -7.48442709e-02, -5.93414307e-01,\n",
       "        6.83596671e-01,  7.59363919e-02, -2.10061267e-01,  2.24230021e-01,\n",
       "       -2.77260393e-01,  5.42468369e-01, -1.44728273e-01, -6.96935356e-01,\n",
       "       -3.58003825e-01, -7.93624669e-03, -2.32796311e-01,  1.65934622e-01,\n",
       "       -3.36888313e-01,  8.14031437e-02,  1.03061843e+00, -3.29371989e-01,\n",
       "       -5.77936411e-01,  8.73169065e-01, -2.66816705e-01,  3.83865535e-02,\n",
       "        6.47227943e-01, -3.11399791e-02,  3.59021634e-01, -4.56421286e-01,\n",
       "       -1.24389827e-01,  4.82210934e-01,  8.82886767e-01,  6.97471499e-02,\n",
       "        4.46658164e-01, -1.51318282e-01,  9.90798473e-02, -5.50605536e-01,\n",
       "        4.32046920e-01,  1.24688096e-01, -1.00977279e-01, -5.27662218e-01,\n",
       "        4.76048410e-01, -5.04292369e-01,  1.74848840e-01,  3.28569353e-01,\n",
       "        3.27158719e-02, -1.90809533e-01, -2.27301210e-01, -2.30616525e-01,\n",
       "       -9.68746096e-02,  4.51659143e-01,  2.66439676e-01,  1.98706180e-01,\n",
       "       -5.92887759e-01, -7.55644858e-01, -8.27212036e-02, -1.99442748e-02,\n",
       "       -5.62236309e-01,  3.60246837e-01,  7.62976229e-01, -2.65689820e-01,\n",
       "        6.34316444e-01,  2.42404699e-01, -7.84592986e-01, -1.26847308e-02,\n",
       "       -1.08990029e-01, -3.72042358e-01,  2.24105716e-01, -4.24680829e-01,\n",
       "       -4.07139897e-01, -7.40679383e-01, -1.61429629e-01,  7.61696935e-01,\n",
       "        1.39015809e-01,  2.39625975e-01, -6.53881431e-02,  4.95136619e-01,\n",
       "        3.62754047e-01, -5.27829006e-02,  1.64804995e-01, -2.88019121e-01,\n",
       "       -1.54305622e-01, -1.08388841e-01,  4.30503935e-01,  3.05444568e-01,\n",
       "       -2.39461049e-01,  3.39633226e-01, -6.39742851e-01, -3.58120829e-01,\n",
       "       -8.29731584e-01, -1.03928804e-01,  2.12719709e-01, -2.84604371e-01,\n",
       "        7.39814997e-01, -9.55257565e-02,  1.21759281e-01, -2.88294971e-01,\n",
       "        1.19880013e-01,  4.62910146e-01, -5.51181808e-02, -4.58423048e-02,\n",
       "       -2.43666828e-01,  6.74987793e-01,  2.59753734e-01, -1.46817118e-01,\n",
       "        3.46653044e-01, -2.89603978e-01,  3.72610465e-02, -7.27412462e-01,\n",
       "       -1.72813341e-01, -7.02643871e-01,  1.57709002e-01, -2.17191383e-01,\n",
       "        1.43834084e-01, -3.36497277e-01, -2.06011236e-01, -3.96776795e-01,\n",
       "        3.63415271e-01, -1.51120782e-01,  2.06249192e-01,  7.63227761e-01,\n",
       "        3.92267406e-01,  5.08526683e-01, -6.05275154e-01, -5.47242641e-01,\n",
       "       -2.99627781e-01,  6.39618933e-01,  7.32500404e-02,  6.94151700e-01,\n",
       "        3.44226271e-01,  2.76724458e-01, -3.85263145e-01,  8.46875608e-02,\n",
       "        1.17984064e-01, -5.12769938e-01, -2.40469247e-01, -3.95399362e-01,\n",
       "        1.53345630e-01,  2.08916441e-01, -2.94752121e-02,  1.10039555e-01,\n",
       "       -4.14031684e-01,  1.65996432e-01, -7.81447440e-02, -8.34965855e-02,\n",
       "       -4.31710541e-01, -1.52007490e-01,  2.99774110e-01, -1.22459993e-01,\n",
       "       -5.05348027e-01,  6.90698266e-01,  1.31955102e-01, -3.87044922e-02,\n",
       "        3.23388577e-01, -3.74689192e-01, -9.91763826e-03,  5.32872915e-01,\n",
       "       -1.93118840e-01, -3.44126612e-01,  1.10672168e-01,  3.40982080e-01,\n",
       "        3.81665677e-02, -5.77343404e-01, -3.83389026e-01,  4.76917624e-01,\n",
       "        6.15753382e-02,  1.47412345e-01, -5.25487602e-01, -3.43567312e-01,\n",
       "        5.03915668e-01, -1.85689516e-03,  3.92762154e-01,  3.05185467e-02,\n",
       "        3.35538387e-02, -4.16205347e-01, -6.10629976e-01,  9.77398083e-02,\n",
       "        4.60405409e-01, -6.29964396e-02,  1.63990438e-01,  8.24435279e-02,\n",
       "        3.92792642e-01, -5.30563444e-02, -8.28064680e-02,  2.57093340e-01,\n",
       "        1.11350134e-01, -6.25335634e-01,  4.95961189e-01, -7.84147382e-02,\n",
       "       -6.90415025e-01, -6.91263676e-02, -1.41566336e-01, -3.18293929e-01,\n",
       "       -5.66942513e-01, -5.07182002e-01,  4.38386738e-01,  2.93416023e-01,\n",
       "        1.51230142e-01,  2.48206317e-01,  5.48252940e-01, -5.20662308e-01,\n",
       "       -2.45614231e-01, -1.71650484e-01,  4.82838415e-02,  6.37319162e-02,\n",
       "       -6.87510908e-01, -1.09643638e-02, -3.22736293e-01, -5.24734855e-02,\n",
       "        8.00105929e-03, -7.24167079e-02, -5.08368760e-02,  3.28926861e-01,\n",
       "       -5.54342866e-01,  2.44669944e-01,  4.97976899e-01,  1.35556772e-01,\n",
       "       -9.84886348e-01, -2.79041648e-01, -3.37340683e-02,  1.42458618e-01,\n",
       "       -4.02045548e-01, -4.36563104e-01, -5.55960894e-01,  1.51815996e-01,\n",
       "        5.38032651e-01, -1.05530597e-01, -9.05540287e-02,  1.14157057e+00,\n",
       "       -3.95979732e-02, -2.20780671e-02, -6.34416282e-01, -2.81391460e-02,\n",
       "        1.17709309e-01, -5.79573154e-01,  9.17924643e-02, -4.97560561e-01,\n",
       "       -6.76675975e-01,  4.35475290e-01,  1.61866486e-01, -3.14802527e-01,\n",
       "       -2.21083283e-01,  3.79343554e-02,  8.13132405e-01, -2.04203203e-01,\n",
       "        3.79051864e-01, -1.14948303e-03, -1.64471328e-01,  1.59057215e-01,\n",
       "        3.98426950e-01, -5.26380464e-02,  4.73362833e-01,  1.68540180e-01,\n",
       "        4.89661507e-02,  8.14360157e-02, -3.27390373e-01,  1.70733213e-01,\n",
       "        3.86046499e-01, -8.38233471e-01, -3.16381782e-01, -4.95627701e-01,\n",
       "        4.08383459e-01,  5.86693466e-01, -2.61552095e-01, -6.74624741e-03,\n",
       "       -6.68336451e-03, -1.07076550e+00, -1.95323527e-01,  4.11315978e-01,\n",
       "       -2.83927083e-01, -3.48052740e-01,  5.74736595e-01,  1.18031330e-01,\n",
       "       -5.25496960e-01, -2.72883233e-02,  4.71325874e-01,  2.17775226e-01,\n",
       "       -1.34177908e-01,  1.44632652e-01, -6.07809089e-02,  5.23056924e-01,\n",
       "       -4.52635527e-01,  5.65318584e-01, -8.67875740e-02,  3.43969017e-01,\n",
       "        3.79298329e-01,  1.18736766e-01,  6.55118003e-02, -7.45625347e-02,\n",
       "        1.35873988e-01,  3.47851694e-01, -3.19331735e-01,  1.47737578e-01,\n",
       "        7.12918997e-01,  6.60250783e-01, -5.94504297e-01,  1.25467405e-01,\n",
       "       -3.10559243e-01, -3.06621075e-01,  3.14310789e-01,  2.01077864e-01,\n",
       "        3.97679120e-01,  3.17246616e-01,  7.36797750e-01, -2.83913821e-01,\n",
       "        1.85107142e-02,  1.42766565e-01, -2.48108178e-01, -6.25061914e-02,\n",
       "       -2.21845865e-01,  4.72689182e-01,  3.52737725e-01,  2.15992495e-01,\n",
       "       -3.11406583e-01,  3.64860058e-01, -1.76050797e-01, -1.47311032e-01,\n",
       "        4.51147586e-01,  9.16033506e-01, -1.66529402e-01, -6.49937987e-03,\n",
       "       -1.69086277e-01,  1.15918204e-01,  4.37332898e-01,  2.57115662e-01,\n",
       "        4.06357676e-01,  7.57525861e-02,  2.21101791e-01,  2.21980810e-02,\n",
       "        1.50086746e-01, -7.38330930e-02,  2.37129688e-01,  1.92643404e-01,\n",
       "       -1.52687177e-01,  1.73295170e-01, -4.41926509e-01, -3.61607075e-01,\n",
       "        8.62416387e-01,  3.35999846e-01,  1.06335036e-01, -3.89223784e-01,\n",
       "       -1.24192685e-02, -6.53368831e-02, -2.24618018e-01, -5.84393263e-01,\n",
       "        3.83564889e-01,  3.37366015e-01, -8.81176293e-02, -9.66147184e-01,\n",
       "       -7.13586807e-01,  2.48558372e-02,  2.65720546e-01,  9.39695716e-01,\n",
       "       -7.22231120e-02, -5.33223212e-01,  2.45977744e-01,  6.33506775e-01,\n",
       "       -7.17705190e-01,  1.02204084e-01, -3.85309547e-01,  1.86277255e-02,\n",
       "        2.00522974e-01, -1.59654431e-02, -7.17971206e-01,  1.19900495e-01,\n",
       "        5.89061499e-01, -6.28535748e-01, -2.03719556e-01, -4.01256561e-01,\n",
       "        3.62497121e-01, -2.58419573e-01, -1.04709804e-01, -2.47824892e-01,\n",
       "        1.30637541e-01, -1.46134436e-01,  2.22585604e-01, -2.25301400e-01,\n",
       "        6.82257891e-01,  1.40636563e-01,  6.40110075e-01, -1.57132864e-01,\n",
       "        6.75180256e-01, -1.88586041e-01, -5.36958694e-01, -1.96933746e-03,\n",
       "        2.18009651e-01, -1.85298547e-01,  7.02580571e-01,  9.78954136e-03,\n",
       "       -6.90176338e-02, -6.78959668e-01, -1.68028459e-01,  1.16916418e-01,\n",
       "       -1.64863968e+00,  1.31914824e-01,  2.53775269e-02, -7.61681721e-02,\n",
       "       -4.37357634e-01, -7.34553188e-02, -6.42711639e-01, -2.49943659e-02,\n",
       "       -2.52208076e-02, -3.61267805e-01,  2.49443606e-01, -9.79745984e-02,\n",
       "       -2.57392019e-01, -1.26925319e-01,  2.39901125e-01,  3.82357866e-01,\n",
       "        4.15426731e-01,  2.41711870e-01,  3.82903755e-01,  2.41341859e-01,\n",
       "        8.78416300e-02,  2.78836548e-01,  2.54709184e-01, -1.99940369e-01,\n",
       "       -2.34628052e-01,  1.92728370e-01, -1.19960733e-01, -1.06047168e-01,\n",
       "       -1.72514871e-01, -2.32636958e-01,  7.92586088e-01,  1.31105646e-01,\n",
       "       -1.12820470e+00, -6.18008792e-01,  2.02168852e-01, -1.48057714e-01,\n",
       "        3.16439152e-01,  3.32970381e-01,  8.52399841e-02,  2.07576632e-01,\n",
       "       -8.20223331e-01, -6.46685958e-01,  4.48780686e-01, -2.86803871e-01,\n",
       "       -1.41149431e-01, -1.52350754e-01, -5.09668291e-01, -5.13242334e-02],\n",
       "      dtype=float32)"
      ]
     },
     "execution_count": 39,
     "metadata": {},
     "output_type": "execute_result"
    }
   ],
   "source": [
    "# Пример: извлечение признаков для одного текста\n",
    "text_embedding = extract_text_features(data.loc[0, \"text\"])\n",
    "text_embedding"
   ]
  }
 ],
 "metadata": {
  "kernelspec": {
   "display_name": "rec_sys",
   "language": "python",
   "name": "python3"
  },
  "language_info": {
   "codemirror_mode": {
    "name": "ipython",
    "version": 3
   },
   "file_extension": ".py",
   "mimetype": "text/x-python",
   "name": "python",
   "nbconvert_exporter": "python",
   "pygments_lexer": "ipython3",
   "version": "3.9.19"
  }
 },
 "nbformat": 4,
 "nbformat_minor": 2
}
